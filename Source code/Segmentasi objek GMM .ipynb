{
 "cells": [
  {
   "cell_type": "code",
   "execution_count": 1,
   "metadata": {},
   "outputs": [],
   "source": [
    "\n",
    "import os\n",
    "import numpy as np\n",
    "import cv2\n",
    "import PIL\n",
    "from PIL import Image\n",
    "import matplotlib.pyplot as plt\n",
    "from sklearn.mixture import GaussianMixture \n",
    "from skimage import io, color"
   ]
  },
  {
   "cell_type": "code",
   "execution_count": 2,
   "metadata": {},
   "outputs": [
    {
     "name": "stdout",
     "output_type": "stream",
     "text": [
      "Daftar kelas =  ['basketball-greyscale', 'biking-greyscale', 'diving-greyscale', 'golf_swing-greyscale', 'horse_riding-greyscale', 'soccer_juggling-greyscale', 'swing-greyscale', 'tennis_swing-greyscale', 'trampoline_jumping-greyscale', 'vollyball_spiking-greyscale', 'walking-greyscale'] \n",
      "\n",
      "Banyak kelas =  11\n"
     ]
    }
   ],
   "source": [
    "path = r\"D:\\skripsi\\DataCoba\\UCF11_greyscale\"\n",
    "\n",
    "kelas = os.listdir(path)\n",
    "print(\"Daftar kelas = \",kelas,\"\\n\\nBanyak kelas = \", len(kelas))"
   ]
  },
  {
   "cell_type": "code",
   "execution_count": 4,
   "metadata": {},
   "outputs": [],
   "source": [
    "def segmentasiGMM(image):\n",
    "    # Convert the image to grayscale\n",
    "    gray_image = color.rgb2gray(image)\n",
    "\n",
    "    # Reshape the grayscale image to a 1D array\n",
    "    pixels = gray_image.ravel()\n",
    "\n",
    "    # Apply Gaussian Mixture Model (GMM) for segmentation\n",
    "    n_components = 2  # Number of components (clusters)\n",
    "    gmm = GaussianMixture(n_components=n_components)\n",
    "    gmm.fit(pixels.reshape(-1, 1))\n",
    "    segmented = gmm.predict(pixels.reshape(-1, 1))\n",
    "\n",
    "    # Reshape the segmented labels back to the shape of the original image\n",
    "    segmented_image = segmented.reshape(gray_image.shape)\n",
    "\n",
    "    # Assign colors to clusters\n",
    "    # Cluster 1 will be white, and Cluster 0 will be black\n",
    "    segmented_image = np.where(segmented_image == 0, 1, 0)\n",
    "    return(segmented_image)\n"
   ]
  },
  {
   "cell_type": "code",
   "execution_count": 5,
   "metadata": {},
   "outputs": [
    {
     "name": "stdout",
     "output_type": "stream",
     "text": [
      "(224, 224, 3)\n",
      "[[0 0 0 ... 0 0 0]\n",
      " [0 0 0 ... 0 0 0]\n",
      " [0 0 0 ... 0 0 0]\n",
      " ...\n",
      " [1 1 1 ... 1 1 1]\n",
      " [1 1 1 ... 1 1 1]\n",
      " [1 1 1 ... 1 1 1]]\n",
      "(224, 224)\n"
     ]
    },
    {
     "data": {
      "image/png": "[encoded data removed]",
      "text/plain": [
       "<Figure size 640x480 with 1 Axes>"
      ]
     },
     "metadata": {},
     "output_type": "display_data"
    }
   ],
   "source": [
    "img = cv2.imread(r\"D:\\skripsi\\DataCoba\\UCF11_greyscale\\basketball-greyscale\\framebasketball_1_1.png\")\n",
    "print (img.shape)\n",
    "img = segmentasiGMM(img)\n",
    "img = img.astype(np.uint8)\n",
    "a = PIL.Image.fromarray(img)\n",
    "plt.axis('off')\n",
    "# plt.imshow(img)\n",
    "plt.imshow(a, cmap='gray')\n",
    "# print(a)\n",
    "plt.savefig(\"GMM.jpg\", bbox_inches='tight', pad_inches=0)\n",
    "print(img)\n",
    "print (img.shape)\n"
   ]
  },
  {
   "cell_type": "code",
   "execution_count": null,
   "metadata": {},
   "outputs": [],
   "source": [
    "import os \n",
    "\n",
    "folder_path = r\"D:\\skripsi\\Data\\UCF11_grayscale\\basketball-grayscale\"\n",
    "output_path = r\"D:\\skripsi\\Data\\UCF11_GMM\\basketball-GMM\"\n",
    "for filename in os.listdir(folder_path):\n",
    "    file_path = os.path.join(folder_path, filename)\n",
    "    if os.path.isfile(file_path):\n",
    "        img = cv2.imread(file_path)\n",
    "        img = segmentasiGMM(img)\n",
    "        img = img.astype(np.uint8)\n",
    "        a = PIL.Image.fromarray(img)\n",
    "        plt.axis('off')\n",
    "        file_name = os.path.basename(file_path)\n",
    "        save_path = output_path + file_name + '-GMM.png'  # ubah lokasi penyimpanan sesuai kebutuhan\n",
    "        plt.imshow(a, cmap='gray')\n",
    "        plt.savefig(save_path , bbox_inches='tight', pad_inches=0)\n",
    "        plt.show()\n",
    "        print(file_path)\n"
   ]
  }
 ],
 "metadata": {
  "kernelspec": {
   "display_name": "jupyter_notebook",
   "language": "python",
   "name": "python3"
  },
  "language_info": {
   "codemirror_mode": {
    "name": "ipython",
    "version": 3
   },
   "file_extension": ".py",
   "mimetype": "text/x-python",
   "name": "python",
   "nbconvert_exporter": "python",
   "pygments_lexer": "ipython3",
   "version": "3.11.5"
  }
 },
 "nbformat": 4,
 "nbformat_minor": 2
}
